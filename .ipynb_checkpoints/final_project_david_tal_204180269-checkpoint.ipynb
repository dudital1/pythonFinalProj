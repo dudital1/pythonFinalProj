{
 "cells": [
  {
   "cell_type": "code",
   "execution_count": 1,
   "metadata": {},
   "outputs": [
    {
     "name": "stdout",
     "output_type": "stream",
     "text": [
      "Requirement already satisfied: numpy in c:\\users\\dudit\\pycharmprojects\\scientificpython\\venv\\lib\\site-packages (1.20.1)"
     ]
    },
    {
     "name": "stderr",
     "output_type": "stream",
     "text": [
      "WARNING: You are using pip version 20.1.1; however, version 21.0.1 is available.\n",
      "You should consider upgrading via the 'c:\\users\\dudit\\pycharmprojects\\scientificpython\\venv\\scripts\\python.exe -m pip install --upgrade pip' command.\n"
     ]
    },
    {
     "name": "stdout",
     "output_type": "stream",
     "text": [
      "\n",
      "Requirement already satisfied: matplotlib in c:\\users\\dudit\\pycharmprojects\\scientificpython\\venv\\lib\\site-packages (3.3.4)\n",
      "Requirement already satisfied: python-dateutil>=2.1 in c:\\users\\dudit\\pycharmprojects\\scientificpython\\venv\\lib\\site-packages (from matplotlib) (2.8.1)\n",
      "Requirement already satisfied: numpy>=1.15 in c:\\users\\dudit\\pycharmprojects\\scientificpython\\venv\\lib\\site-packages (from matplotlib) (1.20.1)\n",
      "Requirement already satisfied: pillow>=6.2.0 in c:\\users\\dudit\\pycharmprojects\\scientificpython\\venv\\lib\\site-packages (from matplotlib) (8.1.0)\n",
      "Requirement already satisfied: kiwisolver>=1.0.1 in c:\\users\\dudit\\pycharmprojects\\scientificpython\\venv\\lib\\site-packages (from matplotlib) (1.3.1)\n",
      "Requirement already satisfied: cycler>=0.10 in c:\\users\\dudit\\pycharmprojects\\scientificpython\\venv\\lib\\site-packages (from matplotlib) (0.10.0)\n"
     ]
    },
    {
     "name": "stderr",
     "output_type": "stream",
     "text": [
      "WARNING: You are using pip version 20.1.1; however, version 21.0.1 is available.\n",
      "You should consider upgrading via the 'c:\\users\\dudit\\pycharmprojects\\scientificpython\\venv\\scripts\\python.exe -m pip install --upgrade pip' command.\n"
     ]
    },
    {
     "name": "stdout",
     "output_type": "stream",
     "text": [
      "Requirement already satisfied: pyparsing!=2.0.4,!=2.1.2,!=2.1.6,>=2.0.3 in c:\\users\\dudit\\pycharmprojects\\scientificpython\\venv\\lib\\site-packages (from matplotlib) (2.4.7)\n",
      "Requirement already satisfied: six>=1.5 in c:\\users\\dudit\\pycharmprojects\\scientificpython\\venv\\lib\\site-packages (from python-dateutil>=2.1->matplotlib) (1.15.0)\n",
      "Requirement already satisfied: seaborn in c:\\users\\dudit\\pycharmprojects\\scientificpython\\venv\\lib\\site-packages (0.11.1)\n",
      "Requirement already satisfied: scipy>=1.0 in c:\\users\\dudit\\pycharmprojects\\scientificpython\\venv\\lib\\site-packages (from seaborn) (1.6.1)\n",
      "Requirement already satisfied: numpy>=1.15 in c:\\users\\dudit\\pycharmprojects\\scientificpython\\venv\\lib\\site-packages (from seaborn) (1.20.1)\n",
      "Requirement already satisfied: pandas>=0.23 in c:\\users\\dudit\\pycharmprojects\\scientificpython\\venv\\lib\\site-packages (from seaborn) (1.2.2)\n",
      "Requirement already satisfied: matplotlib>=2.2 in c:\\users\\dudit\\pycharmprojects\\scientificpython\\venv\\lib\\site-packages (from seaborn) (3.3.4)\n",
      "Requirement already satisfied: pytz>=2017.3 in c:\\users\\dudit\\pycharmprojects\\scientificpython\\venv\\lib\\site-packages (from pandas>=0.23->seaborn) (2021.1)\n",
      "Requirement already satisfied: python-dateutil>=2.7.3 in c:\\users\\dudit\\pycharmprojects\\scientificpython\\venv\\lib\\site-packages (from pandas>=0.23->seaborn) (2.8.1)\n",
      "Requirement already satisfied: pyparsing!=2.0.4,!=2.1.2,!=2.1.6,>=2.0.3 in c:\\users\\dudit\\pycharmprojects\\scientificpython\\venv\\lib\\site-packages (from matplotlib>=2.2->seaborn) (2.4.7)\n",
      "Requirement already satisfied: cycler>=0.10 in c:\\users\\dudit\\pycharmprojects\\scientificpython\\venv\\lib\\site-packages (from matplotlib>=2.2->seaborn) (0.10.0)\n",
      "Requirement already satisfied: kiwisolver>=1.0.1 in c:\\users\\dudit\\pycharmprojects\\scientificpython\\venv\\lib\\site-packages (from matplotlib>=2.2->seaborn) (1.3.1)\n",
      "Requirement already satisfied: pillow>=6.2.0 in c:\\users\\dudit\\pycharmprojects\\scientificpython\\venv\\lib\\site-packages (from matplotlib>=2.2->seaborn) (8.1.0)"
     ]
    },
    {
     "name": "stderr",
     "output_type": "stream",
     "text": [
      "WARNING: You are using pip version 20.1.1; however, version 21.0.1 is available.\n",
      "You should consider upgrading via the 'c:\\users\\dudit\\pycharmprojects\\scientificpython\\venv\\scripts\\python.exe -m pip install --upgrade pip' command.\n"
     ]
    },
    {
     "name": "stdout",
     "output_type": "stream",
     "text": [
      "\n",
      "Requirement already satisfied: six>=1.5 in c:\\users\\dudit\\pycharmprojects\\scientificpython\\venv\\lib\\site-packages (from python-dateutil>=2.7.3->pandas>=0.23->seaborn) (1.15.0)\n",
      "Requirement already satisfied: pandas in c:\\users\\dudit\\pycharmprojects\\scientificpython\\venv\\lib\\site-packages (1.2.2)\n",
      "Requirement already satisfied: pytz>=2017.3 in c:\\users\\dudit\\pycharmprojects\\scientificpython\\venv\\lib\\site-packages (from pandas) (2021.1)\n",
      "Requirement already satisfied: numpy>=1.16.5 in c:\\users\\dudit\\pycharmprojects\\scientificpython\\venv\\lib\\site-packages (from pandas) (1.20.1)\n",
      "Requirement already satisfied: python-dateutil>=2.7.3 in c:\\users\\dudit\\pycharmprojects\\scientificpython\\venv\\lib\\site-packages (from pandas) (2.8.1)\n",
      "Requirement already satisfied: six>=1.5 in c:\\users\\dudit\\pycharmprojects\\scientificpython\\venv\\lib\\site-packages (from python-dateutil>=2.7.3->pandas) (1.15.0)\n"
     ]
    },
    {
     "name": "stderr",
     "output_type": "stream",
     "text": [
      "WARNING: You are using pip version 20.1.1; however, version 21.0.1 is available.\n",
      "You should consider upgrading via the 'c:\\users\\dudit\\pycharmprojects\\scientificpython\\venv\\scripts\\python.exe -m pip install --upgrade pip' command.\n"
     ]
    },
    {
     "name": "stdout",
     "output_type": "stream",
     "text": [
      "Collecting sklearn"
     ]
    },
    {
     "name": "stderr",
     "output_type": "stream",
     "text": [
      "WARNING: You are using pip version 20.1.1; however, version 21.0.1 is available.\n",
      "You should consider upgrading via the 'c:\\users\\dudit\\pycharmprojects\\scientificpython\\venv\\scripts\\python.exe -m pip install --upgrade pip' command.\n"
     ]
    },
    {
     "name": "stdout",
     "output_type": "stream",
     "text": [
      "\n",
      "  Using cached sklearn-0.0.tar.gz (1.1 kB)\n",
      "Collecting scikit-learn\n",
      "  Using cached scikit_learn-0.24.1-cp38-cp38-win32.whl (6.1 MB)\n",
      "Collecting threadpoolctl>=2.0.0\n",
      "  Using cached threadpoolctl-2.1.0-py3-none-any.whl (12 kB)\n",
      "Requirement already satisfied: scipy>=0.19.1 in c:\\users\\dudit\\pycharmprojects\\scientificpython\\venv\\lib\\site-packages (from scikit-learn->sklearn) (1.6.1)\n",
      "Requirement already satisfied: numpy>=1.13.3 in c:\\users\\dudit\\pycharmprojects\\scientificpython\\venv\\lib\\site-packages (from scikit-learn->sklearn) (1.20.1)\n",
      "Collecting joblib>=0.11\n",
      "  Using cached joblib-1.0.1-py3-none-any.whl (303 kB)\n",
      "Using legacy setup.py install for sklearn, since package 'wheel' is not installed.\n",
      "Installing collected packages: threadpoolctl, joblib, scikit-learn, sklearn\n",
      "    Running setup.py install for sklearn: started\n",
      "    Running setup.py install for sklearn: finished with status 'done'\n",
      "Successfully installed joblib-1.0.1 scikit-learn-0.24.1 sklearn-0.0 threadpoolctl-2.1.0\n"
     ]
    },
    {
     "name": "stderr",
     "output_type": "stream",
     "text": [
      "WARNING: You are using pip version 20.1.1; however, version 21.0.1 is available.\n",
      "You should consider upgrading via the 'c:\\users\\dudit\\pycharmprojects\\scientificpython\\venv\\scripts\\python.exe -m pip install --upgrade pip' command.\n"
     ]
    },
    {
     "name": "stdout",
     "output_type": "stream",
     "text": [
      "Collecting pydotplus\n",
      "  Using cached pydotplus-2.0.2.tar.gz (278 kB)\n",
      "Requirement already satisfied: pyparsing>=2.0.1 in c:\\users\\dudit\\pycharmprojects\\scientificpython\\venv\\lib\\site-packages (from pydotplus) (2.4.7)\n",
      "Using legacy setup.py install for pydotplus, since package 'wheel' is not installed.\n",
      "Installing collected packages: pydotplus\n",
      "    Running setup.py install for pydotplus: started\n",
      "    Running setup.py install for pydotplus: finished with status 'done'\n",
      "Successfully installed pydotplus-2.0.2\n"
     ]
    }
   ],
   "source": [
    "!pip install numpy\n",
    "!pip install matplotlib\n",
    "!pip install seaborn\n",
    "!pip install pandas\n",
    "!pip install sklearn\n",
    "!pip install pydotplus\n",
    "\n",
    "import numpy as np\n",
    "import matplotlib.pyplot as plt\n",
    "import seaborn as sns\n",
    "import pandas as pd\n",
    "from sklearn.naive_bayes import GaussianNB\n",
    "import sklearn as skl\n",
    "from sklearn.tree import DecisionTreeClassifier # Import Decision Tree Classifier\n",
    "from sklearn.model_selection import train_test_split # Import train_test_split function\n",
    "from sklearn import metrics #Import scikit-learn metrics module for accuracy calculation\n",
    "import pydotplus"
   ]
  },
  {
   "cell_type": "code",
   "execution_count": 2,
   "metadata": {},
   "outputs": [],
   "source": [
    "df = pd.read_csv('forestCover3.csv')"
   ]
  },
  {
   "cell_type": "code",
   "execution_count": 3,
   "metadata": {},
   "outputs": [
    {
     "data": {
      "text/html": [
       "<div>\n",
       "<style scoped>\n",
       "    .dataframe tbody tr th:only-of-type {\n",
       "        vertical-align: middle;\n",
       "    }\n",
       "\n",
       "    .dataframe tbody tr th {\n",
       "        vertical-align: top;\n",
       "    }\n",
       "\n",
       "    .dataframe thead th {\n",
       "        text-align: right;\n",
       "    }\n",
       "</style>\n",
       "<table border=\"1\" class=\"dataframe\">\n",
       "  <thead>\n",
       "    <tr style=\"text-align: right;\">\n",
       "      <th></th>\n",
       "      <th>Elevation</th>\n",
       "      <th>Aspect</th>\n",
       "      <th>Slope</th>\n",
       "      <th>Horizontal_Distance_To_Hydrology</th>\n",
       "      <th>Vertical_Distance_To_Hydrology</th>\n",
       "      <th>Horizontal_Distance_To_Roadways</th>\n",
       "      <th>Hillshade_9am</th>\n",
       "      <th>Hillshade_Noon</th>\n",
       "      <th>Hillshade_3pm</th>\n",
       "      <th>Horizontal_Distance_To_Fire_Points</th>\n",
       "      <th>Area_Type</th>\n",
       "      <th>Cover_Type</th>\n",
       "    </tr>\n",
       "  </thead>\n",
       "  <tbody>\n",
       "    <tr>\n",
       "      <th>0</th>\n",
       "      <td>2965.0</td>\n",
       "      <td>51</td>\n",
       "      <td>Slight</td>\n",
       "      <td>258.0</td>\n",
       "      <td>0</td>\n",
       "      <td>510</td>\n",
       "      <td>221.0</td>\n",
       "      <td>232.0</td>\n",
       "      <td>148</td>\n",
       "      <td>6279</td>\n",
       "      <td>Wilderness_Area_1</td>\n",
       "      <td>5</td>\n",
       "    </tr>\n",
       "    <tr>\n",
       "      <th>1</th>\n",
       "      <td>2716.0</td>\n",
       "      <td>56</td>\n",
       "      <td>Slight</td>\n",
       "      <td>212.0</td>\n",
       "      <td>-6</td>\n",
       "      <td>390</td>\n",
       "      <td>220.0</td>\n",
       "      <td>235.0</td>\n",
       "      <td>151</td>\n",
       "      <td>6225</td>\n",
       "      <td>Wilderness_Area_1</td>\n",
       "      <td>5</td>\n",
       "    </tr>\n",
       "    <tr>\n",
       "      <th>2</th>\n",
       "      <td>3316.0</td>\n",
       "      <td>139</td>\n",
       "      <td>Slight</td>\n",
       "      <td>268.0</td>\n",
       "      <td>65</td>\n",
       "      <td>3180</td>\n",
       "      <td>234.0</td>\n",
       "      <td>238.0</td>\n",
       "      <td>135</td>\n",
       "      <td>6121</td>\n",
       "      <td>Wilderness_Area_1</td>\n",
       "      <td>2</td>\n",
       "    </tr>\n",
       "    <tr>\n",
       "      <th>3</th>\n",
       "      <td>3191.0</td>\n",
       "      <td>155</td>\n",
       "      <td>Medium</td>\n",
       "      <td>242.0</td>\n",
       "      <td>118</td>\n",
       "      <td>3090</td>\n",
       "      <td>238.0</td>\n",
       "      <td>238.0</td>\n",
       "      <td>122</td>\n",
       "      <td>6211</td>\n",
       "      <td>Wilderness_Area_1</td>\n",
       "      <td>2</td>\n",
       "    </tr>\n",
       "    <tr>\n",
       "      <th>4</th>\n",
       "      <td>2969.0</td>\n",
       "      <td>45</td>\n",
       "      <td>Slight</td>\n",
       "      <td>153.0</td>\n",
       "      <td>-1</td>\n",
       "      <td>391</td>\n",
       "      <td>220.0</td>\n",
       "      <td>234.0</td>\n",
       "      <td>150</td>\n",
       "      <td>6172</td>\n",
       "      <td>Wilderness_Area_1</td>\n",
       "      <td>5</td>\n",
       "    </tr>\n",
       "  </tbody>\n",
       "</table>\n",
       "</div>"
      ],
      "text/plain": [
       "   Elevation  Aspect   Slope  Horizontal_Distance_To_Hydrology  \\\n",
       "0     2965.0      51  Slight                             258.0   \n",
       "1     2716.0      56  Slight                             212.0   \n",
       "2     3316.0     139  Slight                             268.0   \n",
       "3     3191.0     155  Medium                             242.0   \n",
       "4     2969.0      45  Slight                             153.0   \n",
       "\n",
       "   Vertical_Distance_To_Hydrology  Horizontal_Distance_To_Roadways  \\\n",
       "0                               0                              510   \n",
       "1                              -6                              390   \n",
       "2                              65                             3180   \n",
       "3                             118                             3090   \n",
       "4                              -1                              391   \n",
       "\n",
       "   Hillshade_9am  Hillshade_Noon  Hillshade_3pm  \\\n",
       "0          221.0           232.0            148   \n",
       "1          220.0           235.0            151   \n",
       "2          234.0           238.0            135   \n",
       "3          238.0           238.0            122   \n",
       "4          220.0           234.0            150   \n",
       "\n",
       "   Horizontal_Distance_To_Fire_Points          Area_Type  Cover_Type  \n",
       "0                                6279  Wilderness_Area_1           5  \n",
       "1                                6225  Wilderness_Area_1           5  \n",
       "2                                6121  Wilderness_Area_1           2  \n",
       "3                                6211  Wilderness_Area_1           2  \n",
       "4                                6172  Wilderness_Area_1           5  "
      ]
     },
     "execution_count": 3,
     "metadata": {},
     "output_type": "execute_result"
    }
   ],
   "source": [
    "df.head()"
   ]
  },
  {
   "cell_type": "code",
   "execution_count": 4,
   "metadata": {},
   "outputs": [
    {
     "data": {
      "text/html": [
       "<div>\n",
       "<style scoped>\n",
       "    .dataframe tbody tr th:only-of-type {\n",
       "        vertical-align: middle;\n",
       "    }\n",
       "\n",
       "    .dataframe tbody tr th {\n",
       "        vertical-align: top;\n",
       "    }\n",
       "\n",
       "    .dataframe thead th {\n",
       "        text-align: right;\n",
       "    }\n",
       "</style>\n",
       "<table border=\"1\" class=\"dataframe\">\n",
       "  <thead>\n",
       "    <tr style=\"text-align: right;\">\n",
       "      <th></th>\n",
       "      <th>Elevation</th>\n",
       "      <th>Aspect</th>\n",
       "      <th>Slope</th>\n",
       "      <th>Horizontal_Distance_To_Hydrology</th>\n",
       "      <th>Vertical_Distance_To_Hydrology</th>\n",
       "      <th>Horizontal_Distance_To_Roadways</th>\n",
       "      <th>Hillshade_9am</th>\n",
       "      <th>Hillshade_Noon</th>\n",
       "      <th>Hillshade_3pm</th>\n",
       "      <th>Horizontal_Distance_To_Fire_Points</th>\n",
       "      <th>Area_Type</th>\n",
       "      <th>Cover_Type</th>\n",
       "    </tr>\n",
       "  </thead>\n",
       "  <tbody>\n",
       "    <tr>\n",
       "      <th>count</th>\n",
       "      <td>569261.000000</td>\n",
       "      <td>581012.000000</td>\n",
       "      <td>476254</td>\n",
       "      <td>569300.000000</td>\n",
       "      <td>581012.000000</td>\n",
       "      <td>581012.000000</td>\n",
       "      <td>569152.000000</td>\n",
       "      <td>552360.000000</td>\n",
       "      <td>581012.000000</td>\n",
       "      <td>581012.000000</td>\n",
       "      <td>528560</td>\n",
       "      <td>581012.000000</td>\n",
       "    </tr>\n",
       "    <tr>\n",
       "      <th>unique</th>\n",
       "      <td>NaN</td>\n",
       "      <td>NaN</td>\n",
       "      <td>3</td>\n",
       "      <td>NaN</td>\n",
       "      <td>NaN</td>\n",
       "      <td>NaN</td>\n",
       "      <td>NaN</td>\n",
       "      <td>NaN</td>\n",
       "      <td>NaN</td>\n",
       "      <td>NaN</td>\n",
       "      <td>4</td>\n",
       "      <td>NaN</td>\n",
       "    </tr>\n",
       "    <tr>\n",
       "      <th>top</th>\n",
       "      <td>NaN</td>\n",
       "      <td>NaN</td>\n",
       "      <td>Medium</td>\n",
       "      <td>NaN</td>\n",
       "      <td>NaN</td>\n",
       "      <td>NaN</td>\n",
       "      <td>NaN</td>\n",
       "      <td>NaN</td>\n",
       "      <td>NaN</td>\n",
       "      <td>NaN</td>\n",
       "      <td>Wilderness_Area_1</td>\n",
       "      <td>NaN</td>\n",
       "    </tr>\n",
       "    <tr>\n",
       "      <th>freq</th>\n",
       "      <td>NaN</td>\n",
       "      <td>NaN</td>\n",
       "      <td>188080</td>\n",
       "      <td>NaN</td>\n",
       "      <td>NaN</td>\n",
       "      <td>NaN</td>\n",
       "      <td>NaN</td>\n",
       "      <td>NaN</td>\n",
       "      <td>NaN</td>\n",
       "      <td>NaN</td>\n",
       "      <td>237485</td>\n",
       "      <td>NaN</td>\n",
       "    </tr>\n",
       "    <tr>\n",
       "      <th>mean</th>\n",
       "      <td>3279.403226</td>\n",
       "      <td>155.656807</td>\n",
       "      <td>NaN</td>\n",
       "      <td>269.437400</td>\n",
       "      <td>46.418855</td>\n",
       "      <td>2350.146611</td>\n",
       "      <td>212.149055</td>\n",
       "      <td>223.322190</td>\n",
       "      <td>142.528263</td>\n",
       "      <td>1980.291226</td>\n",
       "      <td>NaN</td>\n",
       "      <td>2.051471</td>\n",
       "    </tr>\n",
       "    <tr>\n",
       "      <th>std</th>\n",
       "      <td>302.576600</td>\n",
       "      <td>111.913721</td>\n",
       "      <td>NaN</td>\n",
       "      <td>212.620998</td>\n",
       "      <td>58.295232</td>\n",
       "      <td>1559.254870</td>\n",
       "      <td>26.769240</td>\n",
       "      <td>19.770383</td>\n",
       "      <td>38.274529</td>\n",
       "      <td>1324.195210</td>\n",
       "      <td>NaN</td>\n",
       "      <td>1.396504</td>\n",
       "    </tr>\n",
       "    <tr>\n",
       "      <th>min</th>\n",
       "      <td>1724.000000</td>\n",
       "      <td>0.000000</td>\n",
       "      <td>NaN</td>\n",
       "      <td>0.000000</td>\n",
       "      <td>-173.000000</td>\n",
       "      <td>0.000000</td>\n",
       "      <td>0.000000</td>\n",
       "      <td>0.000000</td>\n",
       "      <td>0.000000</td>\n",
       "      <td>0.000000</td>\n",
       "      <td>NaN</td>\n",
       "      <td>1.000000</td>\n",
       "    </tr>\n",
       "    <tr>\n",
       "      <th>25%</th>\n",
       "      <td>3110.000000</td>\n",
       "      <td>58.000000</td>\n",
       "      <td>NaN</td>\n",
       "      <td>108.000000</td>\n",
       "      <td>7.000000</td>\n",
       "      <td>1106.000000</td>\n",
       "      <td>198.000000</td>\n",
       "      <td>213.000000</td>\n",
       "      <td>119.000000</td>\n",
       "      <td>1024.000000</td>\n",
       "      <td>NaN</td>\n",
       "      <td>1.000000</td>\n",
       "    </tr>\n",
       "    <tr>\n",
       "      <th>50%</th>\n",
       "      <td>3314.000000</td>\n",
       "      <td>127.000000</td>\n",
       "      <td>NaN</td>\n",
       "      <td>218.000000</td>\n",
       "      <td>30.000000</td>\n",
       "      <td>1997.000000</td>\n",
       "      <td>218.000000</td>\n",
       "      <td>226.000000</td>\n",
       "      <td>143.000000</td>\n",
       "      <td>1710.000000</td>\n",
       "      <td>NaN</td>\n",
       "      <td>2.000000</td>\n",
       "    </tr>\n",
       "    <tr>\n",
       "      <th>75%</th>\n",
       "      <td>3491.000000</td>\n",
       "      <td>260.000000</td>\n",
       "      <td>NaN</td>\n",
       "      <td>384.000000</td>\n",
       "      <td>69.000000</td>\n",
       "      <td>3328.000000</td>\n",
       "      <td>231.000000</td>\n",
       "      <td>237.000000</td>\n",
       "      <td>168.000000</td>\n",
       "      <td>2550.000000</td>\n",
       "      <td>NaN</td>\n",
       "      <td>2.000000</td>\n",
       "    </tr>\n",
       "    <tr>\n",
       "      <th>max</th>\n",
       "      <td>8358.000000</td>\n",
       "      <td>360.000000</td>\n",
       "      <td>NaN</td>\n",
       "      <td>1397.000000</td>\n",
       "      <td>601.000000</td>\n",
       "      <td>7117.000000</td>\n",
       "      <td>254.000000</td>\n",
       "      <td>254.000000</td>\n",
       "      <td>254.000000</td>\n",
       "      <td>7173.000000</td>\n",
       "      <td>NaN</td>\n",
       "      <td>7.000000</td>\n",
       "    </tr>\n",
       "  </tbody>\n",
       "</table>\n",
       "</div>"
      ],
      "text/plain": [
       "            Elevation         Aspect   Slope  \\\n",
       "count   569261.000000  581012.000000  476254   \n",
       "unique            NaN            NaN       3   \n",
       "top               NaN            NaN  Medium   \n",
       "freq              NaN            NaN  188080   \n",
       "mean      3279.403226     155.656807     NaN   \n",
       "std        302.576600     111.913721     NaN   \n",
       "min       1724.000000       0.000000     NaN   \n",
       "25%       3110.000000      58.000000     NaN   \n",
       "50%       3314.000000     127.000000     NaN   \n",
       "75%       3491.000000     260.000000     NaN   \n",
       "max       8358.000000     360.000000     NaN   \n",
       "\n",
       "        Horizontal_Distance_To_Hydrology  Vertical_Distance_To_Hydrology  \\\n",
       "count                      569300.000000                   581012.000000   \n",
       "unique                               NaN                             NaN   \n",
       "top                                  NaN                             NaN   \n",
       "freq                                 NaN                             NaN   \n",
       "mean                          269.437400                       46.418855   \n",
       "std                           212.620998                       58.295232   \n",
       "min                             0.000000                     -173.000000   \n",
       "25%                           108.000000                        7.000000   \n",
       "50%                           218.000000                       30.000000   \n",
       "75%                           384.000000                       69.000000   \n",
       "max                          1397.000000                      601.000000   \n",
       "\n",
       "        Horizontal_Distance_To_Roadways  Hillshade_9am  Hillshade_Noon  \\\n",
       "count                     581012.000000  569152.000000   552360.000000   \n",
       "unique                              NaN            NaN             NaN   \n",
       "top                                 NaN            NaN             NaN   \n",
       "freq                                NaN            NaN             NaN   \n",
       "mean                        2350.146611     212.149055      223.322190   \n",
       "std                         1559.254870      26.769240       19.770383   \n",
       "min                            0.000000       0.000000        0.000000   \n",
       "25%                         1106.000000     198.000000      213.000000   \n",
       "50%                         1997.000000     218.000000      226.000000   \n",
       "75%                         3328.000000     231.000000      237.000000   \n",
       "max                         7117.000000     254.000000      254.000000   \n",
       "\n",
       "        Hillshade_3pm  Horizontal_Distance_To_Fire_Points          Area_Type  \\\n",
       "count   581012.000000                       581012.000000             528560   \n",
       "unique            NaN                                 NaN                  4   \n",
       "top               NaN                                 NaN  Wilderness_Area_1   \n",
       "freq              NaN                                 NaN             237485   \n",
       "mean       142.528263                         1980.291226                NaN   \n",
       "std         38.274529                         1324.195210                NaN   \n",
       "min          0.000000                            0.000000                NaN   \n",
       "25%        119.000000                         1024.000000                NaN   \n",
       "50%        143.000000                         1710.000000                NaN   \n",
       "75%        168.000000                         2550.000000                NaN   \n",
       "max        254.000000                         7173.000000                NaN   \n",
       "\n",
       "           Cover_Type  \n",
       "count   581012.000000  \n",
       "unique            NaN  \n",
       "top               NaN  \n",
       "freq              NaN  \n",
       "mean         2.051471  \n",
       "std          1.396504  \n",
       "min          1.000000  \n",
       "25%          1.000000  \n",
       "50%          2.000000  \n",
       "75%          2.000000  \n",
       "max          7.000000  "
      ]
     },
     "execution_count": 4,
     "metadata": {},
     "output_type": "execute_result"
    }
   ],
   "source": [
    "df.describe(include=\"all\")"
   ]
  },
  {
   "cell_type": "code",
   "execution_count": 5,
   "metadata": {},
   "outputs": [
    {
     "data": {
      "text/plain": [
       "0    387399\n",
       "1    167684\n",
       "2     24326\n",
       "3      1563\n",
       "4        40\n",
       "dtype: int64"
      ]
     },
     "execution_count": 5,
     "metadata": {},
     "output_type": "execute_result"
    }
   ],
   "source": [
    "df.isnull().sum(axis=1).value_counts()"
   ]
  },
  {
   "cell_type": "code",
   "execution_count": 6,
   "metadata": {},
   "outputs": [],
   "source": [
    "df.dropna(thresh=11 , inplace=True)"
   ]
  },
  {
   "cell_type": "code",
   "execution_count": 7,
   "metadata": {},
   "outputs": [
    {
     "data": {
      "text/plain": [
       "0    387399\n",
       "1    167684\n",
       "dtype: int64"
      ]
     },
     "execution_count": 7,
     "metadata": {},
     "output_type": "execute_result"
    }
   ],
   "source": [
    "df.isnull().sum(axis=1).value_counts()"
   ]
  },
  {
   "cell_type": "code",
   "execution_count": 8,
   "metadata": {},
   "outputs": [
    {
     "data": {
      "text/plain": [
       "Elevation                              7991\n",
       "Aspect                                    0\n",
       "Slope                                 85109\n",
       "Horizontal_Distance_To_Hydrology       7909\n",
       "Vertical_Distance_To_Hydrology            0\n",
       "Horizontal_Distance_To_Roadways           0\n",
       "Hillshade_9am                          8102\n",
       "Hillshade_Noon                        20065\n",
       "Hillshade_3pm                             0\n",
       "Horizontal_Distance_To_Fire_Points        0\n",
       "Area_Type                             38508\n",
       "Cover_Type                                0\n",
       "dtype: int64"
      ]
     },
     "execution_count": 8,
     "metadata": {},
     "output_type": "execute_result"
    }
   ],
   "source": [
    "df.isnull().sum()"
   ]
  },
  {
   "cell_type": "code",
   "execution_count": 9,
   "metadata": {},
   "outputs": [
    {
     "data": {
      "text/plain": [
       "Medium    185541\n",
       "Slight    168261\n",
       "Major     116172\n",
       "Name: Slope, dtype: int64"
      ]
     },
     "execution_count": 9,
     "metadata": {},
     "output_type": "execute_result"
    }
   ],
   "source": [
    "df['Slope'].value_counts()"
   ]
  },
  {
   "cell_type": "code",
   "execution_count": 10,
   "metadata": {},
   "outputs": [
    {
     "data": {
      "text/plain": [
       "Wilderness_Area_1    232165\n",
       "Wilderness_Area_3    225054\n",
       "Wilderness_Area_4     32746\n",
       "Wilderness_Area_2     26610\n",
       "Name: Area_Type, dtype: int64"
      ]
     },
     "execution_count": 10,
     "metadata": {},
     "output_type": "execute_result"
    }
   ],
   "source": [
    "df['Area_Type'].value_counts()"
   ]
  },
  {
   "cell_type": "code",
   "execution_count": 12,
   "metadata": {},
   "outputs": [],
   "source": [
    "def na_randomfill(series , values_num):\n",
    "    na_mask = pd.isnull(series)   # boolean mask for null values // \n",
    "    n_null = na_mask.sum()        # number of nulls in the Series // \n",
    "    \n",
    "    most_common_values = series.value_counts()[:values_num]\n",
    "    \n",
    "    if n_null == 0:\n",
    "        return series             # if there are no nulls, no need to resample\n",
    "    \n",
    "    # Randomly sample the non-null values from our series\n",
    "    #  only sample this Series as many times as we have nulls \n",
    "    fill_values = most_common_values.sample(n=n_null, replace=True, random_state=0)\n",
    "\n",
    "    # This ensures our new values will replace NaNs in the correct locations\n",
    "    fill_values.index = series.index[na_mask]\n",
    "    \n",
    "    return series.fillna(fill_values) "
   ]
  },
  {
   "cell_type": "code",
   "execution_count": 13,
   "metadata": {},
   "outputs": [],
   "source": [
    "df['Slope'] = na_randomfill(df['Slope'])"
   ]
  },
  {
   "cell_type": "code",
   "execution_count": 15,
   "metadata": {},
   "outputs": [
    {
     "data": {
      "text/plain": [
       "Medium    218861\n",
       "Slight    198919\n",
       "Major     137303\n",
       "Name: Slope, dtype: int64"
      ]
     },
     "execution_count": 15,
     "metadata": {},
     "output_type": "execute_result"
    }
   ],
   "source": [
    "df['Slope'].value_counts()"
   ]
  },
  {
   "cell_type": "code",
   "execution_count": 25,
   "metadata": {},
   "outputs": [
    {
     "data": {
      "text/plain": [
       "Wilderness_Area_1    232165\n",
       "Wilderness_Area_3    225054\n",
       "Name: Area_Type, dtype: int64"
      ]
     },
     "execution_count": 25,
     "metadata": {},
     "output_type": "execute_result"
    }
   ],
   "source": [
    "n = 2\n",
    "df['Area_Type'].value_counts()[:n]\n",
    "# df['Area_Type'].mode().value_counts()"
   ]
  },
  {
   "cell_type": "code",
   "execution_count": null,
   "metadata": {},
   "outputs": [],
   "source": [
    "# df['Area_Type'] = na_randomfill(df['Area_Type'])"
   ]
  },
  {
   "cell_type": "code",
   "execution_count": null,
   "metadata": {},
   "outputs": [],
   "source": [
    "df['Slope'] = pd.Categorical(df['Slope'],ordered=True,categories=['Slight', 'Medium', 'Major']).codes\n",
    "df['Area_Type'] = pd.Categorical(df['Area_Type'],ordered=True,categories=\n",
    "                    ['Wilderness_Area_1', 'Wilderness_Area_2', 'Wilderness_Area_3','Wilderness_Area_4']).codes\n"
   ]
  },
  {
   "cell_type": "code",
   "execution_count": null,
   "metadata": {},
   "outputs": [],
   "source": [
    "df.describe(include=\"all\")"
   ]
  },
  {
   "cell_type": "code",
   "execution_count": null,
   "metadata": {},
   "outputs": [],
   "source": [
    "df.isnull().sum()"
   ]
  },
  {
   "cell_type": "code",
   "execution_count": null,
   "metadata": {},
   "outputs": [],
   "source": [
    "print(df['Elevation'].mean())\n",
    "print(df['Elevation'].value_counts())"
   ]
  },
  {
   "cell_type": "code",
   "execution_count": null,
   "metadata": {},
   "outputs": [],
   "source": [
    "print(df['Horizontal_Distance_To_Hydrology'].mean())\n",
    "print(df['Horizontal_Distance_To_Hydrology'].value_counts())\n",
    "print(df['Horizontal_Distance_To_Hydrology'].var())"
   ]
  },
  {
   "cell_type": "code",
   "execution_count": null,
   "metadata": {},
   "outputs": [],
   "source": [
    "print(df['Hillshade_9am'].mean())\n",
    "print(df['Hillshade_9am'].value_counts())\n"
   ]
  },
  {
   "cell_type": "code",
   "execution_count": null,
   "metadata": {},
   "outputs": [],
   "source": [
    "print(df['Hillshade_Noon'].mean())\n",
    "print(df['Hillshade_Noon'].value_counts())\n"
   ]
  },
  {
   "cell_type": "code",
   "execution_count": null,
   "metadata": {},
   "outputs": [],
   "source": [
    "df['Elevation'].fillna(df['Elevation'].mean() , inplace=True)\n",
    "df['Horizontal_Distance_To_Hydrology'].fillna(df['Horizontal_Distance_To_Hydrology'].mean() , inplace=True)\n",
    "df['Hillshade_9am'].fillna(df['Hillshade_9am'].mean() , inplace=True)\n",
    "df['Hillshade_Noon'].fillna(df['Hillshade_Noon'].mean() , inplace=True)"
   ]
  },
  {
   "cell_type": "code",
   "execution_count": null,
   "metadata": {},
   "outputs": [],
   "source": [
    "print(df['Elevation'].mean())\n"
   ]
  },
  {
   "cell_type": "code",
   "execution_count": null,
   "metadata": {},
   "outputs": [],
   "source": [
    "print(df['Horizontal_Distance_To_Hydrology'].mean())\n"
   ]
  },
  {
   "cell_type": "code",
   "execution_count": null,
   "metadata": {},
   "outputs": [],
   "source": [
    "print(df['Hillshade_9am'].mean())\n"
   ]
  },
  {
   "cell_type": "code",
   "execution_count": null,
   "metadata": {},
   "outputs": [],
   "source": [
    "print(df['Hillshade_Noon'].mean())\n"
   ]
  },
  {
   "cell_type": "code",
   "execution_count": null,
   "metadata": {},
   "outputs": [],
   "source": [
    "df['Elevation'].fillna(df['Elevation'].mean() , inplace=True)\n",
    "df['Horizontal_Distance_To_Hydrology'].fillna(df['Horizontal_Distance_To_Hydrology'].mean() , inplace=True)\n",
    "df['Hillshade_9am'].fillna(df['Hillshade_9am'].mean() , inplace=True)\n",
    "df['Hillshade_Noon'].fillna(df['Hillshade_Noon'].mean() , inplace=True)"
   ]
  },
  {
   "cell_type": "code",
   "execution_count": null,
   "metadata": {},
   "outputs": [],
   "source": [
    "df.isnull().sum()"
   ]
  },
  {
   "cell_type": "markdown",
   "metadata": {},
   "source": [
    "# Task 3"
   ]
  },
  {
   "cell_type": "code",
   "execution_count": null,
   "metadata": {},
   "outputs": [],
   "source": [
    "fig=plt.figure(figsize=(14, 6))\n",
    "sns.histplot(df.Elevation, bins=100)"
   ]
  },
  {
   "cell_type": "code",
   "execution_count": null,
   "metadata": {},
   "outputs": [],
   "source": [
    "fig=plt.figure(figsize=(15, 10))\n",
    "sns.histplot(df.Aspect)"
   ]
  },
  {
   "cell_type": "code",
   "execution_count": null,
   "metadata": {},
   "outputs": [],
   "source": []
  },
  {
   "cell_type": "code",
   "execution_count": null,
   "metadata": {},
   "outputs": [],
   "source": []
  },
  {
   "cell_type": "code",
   "execution_count": null,
   "metadata": {},
   "outputs": [],
   "source": [
    "def split(df):\n",
    "    df = df.copy()\n",
    "    \n",
    "    # split df into x and y\n",
    "    y = df['Cover_Type'].copy()\n",
    "    x = df.drop('Cover_Type' , axis=1).copy()\n",
    "    \n",
    "    # train test split\n",
    "    x_train , x_test , y_train , y_test = train_test_split( x , y , train_size=0.8 , random_state=123)\n",
    "    \n",
    "    return x_train , x_test , y_train , y_test"
   ]
  },
  {
   "cell_type": "code",
   "execution_count": null,
   "metadata": {},
   "outputs": [],
   "source": [
    "tmpData = df.copy()\n",
    "x_train , x_test , y_train , y_test = split(tmpData)"
   ]
  },
  {
   "cell_type": "code",
   "execution_count": null,
   "metadata": {},
   "outputs": [],
   "source": [
    "def evaluate_model(model , method , x_test , y_test):\n",
    "    \n",
    "    modelAcc = model.score(x_test , y_test)\n",
    "    print(\"Accuracy ({}): {:.2f}%\".format(method , modelAcc * 100))\n",
    "    \n",
    "    y_pred = model.predict(x_test)\n",
    "    \n",
    "    cm = metrics.confusion_matrix(y_test , y_pred)\n",
    "    clr = metrics.classification_report(y_test , y_pred , zero_division=0)\n",
    "    \n",
    "    plt.figure(figsize =(10,10))\n",
    "    sns.heatmap(cm , annot=True , fmt='g' , vmin=1 , cbar=False, cmap='coolwarm')\n",
    "    plt.xlabel('Predicted')\n",
    "    plt.ylabel('Correct')\n",
    "    plt.title('Confuion Matrix')\n",
    "    plt.show()\n",
    "    \n",
    "    print(\"Classification Report: \\n\" , clr)"
   ]
  },
  {
   "cell_type": "code",
   "execution_count": null,
   "metadata": {},
   "outputs": [],
   "source": [
    "GaussianNB_model = GaussianNB()\n",
    "GaussianNB_model.fit(x_train , y_train)\n",
    "evaluate_model(GaussianNB_model , \"GaussianNB_model\", x_test , y_test)"
   ]
  },
  {
   "cell_type": "code",
   "execution_count": null,
   "metadata": {},
   "outputs": [],
   "source": [
    "DecisionTreeClassifier_model = DecisionTreeClassifier()\n",
    "DecisionTreeClassifier_model.fit(x_train , y_train)\n",
    "evaluate_model(DecisionTreeClassifier_model , \"DecisionTreeClassifier_model\", x_test , y_test)"
   ]
  },
  {
   "cell_type": "code",
   "execution_count": null,
   "metadata": {},
   "outputs": [],
   "source": [
    "fig = plt.figure(figsize=(20,10))\n",
    "\n",
    "corr = df.corr()\n",
    "matrix = np.triu(corr.corr())\n",
    "sns.heatmap(corr, annot= True,  mask=matrix, cmap='coolwarm')"
   ]
  },
  {
   "cell_type": "code",
   "execution_count": null,
   "metadata": {},
   "outputs": [],
   "source": [
    "tmpData2 = df.copy()\n",
    "# tmpData2 = df.drop(['Aspect', 'Horizontal_Distance_To_Hydrology' , 'Hillshade_9am' , 'Hillshade_3pm'], axis = 1) \n",
    "tmpData2 = df[['Elevation','Area_Type' , 'Cover_Type' ]]\n",
    "print(tmpData2)\n",
    "x_train , x_test , y_train , y_test = split(tmpData2)"
   ]
  },
  {
   "cell_type": "code",
   "execution_count": null,
   "metadata": {},
   "outputs": [],
   "source": [
    "GaussianNB_model.fit(x_train , y_train)\n",
    "evaluate_model(GaussianNB_model , \"GaussianNB_model\", x_test , y_test)"
   ]
  },
  {
   "cell_type": "code",
   "execution_count": null,
   "metadata": {},
   "outputs": [],
   "source": [
    "x_train , x_test , y_train , y_test = split(tmpData)\n",
    "DecisionTreeClassifier_model.fit(x_train , y_train)\n",
    "evaluate_model(DecisionTreeClassifier_model , \"DecisionTreeClassifier_model\", x_test , y_test)"
   ]
  },
  {
   "cell_type": "code",
   "execution_count": null,
   "metadata": {},
   "outputs": [],
   "source": []
  },
  {
   "cell_type": "code",
   "execution_count": null,
   "metadata": {},
   "outputs": [],
   "source": []
  }
 ],
 "metadata": {
  "kernelspec": {
   "display_name": "Python 3",
   "language": "python",
   "name": "python3"
  },
  "language_info": {
   "codemirror_mode": {
    "name": "ipython",
    "version": 3
   },
   "file_extension": ".py",
   "mimetype": "text/x-python",
   "name": "python",
   "nbconvert_exporter": "python",
   "pygments_lexer": "ipython3",
   "version": "3.8.3"
  }
 },
 "nbformat": 4,
 "nbformat_minor": 4
}
